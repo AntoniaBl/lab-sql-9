{
 "cells": [
  {
   "cell_type": "markdown",
   "id": "b30f8bb8",
   "metadata": {},
   "source": [
    "# Lab SQL 9\n",
    "In this lab we will find the customers who were active in consecutive months of May and June. Follow the steps to complete the analysis.\n"
   ]
  },
  {
   "cell_type": "markdown",
   "id": "a072551e",
   "metadata": {},
   "source": [
    "## Create a table `rentals_may` to store the data from rental table with information for the month of May."
   ]
  },
  {
   "cell_type": "code",
   "execution_count": null,
   "id": "db60a00e",
   "metadata": {},
   "outputs": [],
   "source": []
  },
  {
   "cell_type": "markdown",
   "id": "4d12ebd2",
   "metadata": {},
   "source": [
    "## Insert values in the table `rentals_may` using the table rental, filtering values only for the month of May.\n",
    " "
   ]
  },
  {
   "cell_type": "code",
   "execution_count": null,
   "id": "d6d66dc1",
   "metadata": {},
   "outputs": [],
   "source": []
  },
  {
   "cell_type": "markdown",
   "id": "ce9a6281",
   "metadata": {},
   "source": [
    "## Create a table `rentals_june` to store the data from rental table with information for the month of June.\n"
   ]
  },
  {
   "cell_type": "code",
   "execution_count": null,
   "id": "ccc8b533",
   "metadata": {},
   "outputs": [],
   "source": []
  },
  {
   "cell_type": "markdown",
   "id": "eaed7c1e",
   "metadata": {},
   "source": [
    "## Insert values in the table `rentals_june` using the table rental, filtering values only for the month of June.\n",
    " "
   ]
  },
  {
   "cell_type": "code",
   "execution_count": null,
   "id": "75bd61e4",
   "metadata": {},
   "outputs": [],
   "source": []
  },
  {
   "cell_type": "markdown",
   "id": "a43ae650",
   "metadata": {},
   "source": [
    "## Check the number of rentals for each customer for May.\n"
   ]
  },
  {
   "cell_type": "code",
   "execution_count": null,
   "id": "8ad1d9c4",
   "metadata": {},
   "outputs": [],
   "source": []
  },
  {
   "cell_type": "markdown",
   "id": "59587fe4",
   "metadata": {},
   "source": [
    "## Check the number of rentals for each customer for June.\n",
    " "
   ]
  },
  {
   "cell_type": "code",
   "execution_count": null,
   "id": "2a48a94f",
   "metadata": {},
   "outputs": [],
   "source": []
  },
  {
   "cell_type": "markdown",
   "id": "ecc7ad09",
   "metadata": {},
   "source": [
    "## Create a Python connection with SQL database and retrieve the results of the last two queries (also mentioned below) as dataframes:\n",
    "\n",
    "  - Check the number of rentals for each customer for May\n",
    "  - Check the number of rentals for each customer for June\n",
    "\n",
    "    **Hint**: You can store the results from the two queries in two separate dataframes.\n",
    " "
   ]
  },
  {
   "cell_type": "code",
   "execution_count": null,
   "id": "9ede5084",
   "metadata": {},
   "outputs": [],
   "source": []
  },
  {
   "cell_type": "markdown",
   "id": "44c79e39",
   "metadata": {},
   "source": [
    "## Write a function that checks if customer borrowed more or less films in the month of June as compared to May.\n",
    " \n",
    " **Hint**: For this part, you can create a join between the two dataframes created before, using the merge function available for pandas dataframes. Here is a link to the documentation for the [merge function](https://pandas.pydata.org/pandas-docs/stable/reference/api/pandas.DataFrame.merge.html)."
   ]
  },
  {
   "cell_type": "code",
   "execution_count": null,
   "id": "f284b3ef",
   "metadata": {},
   "outputs": [],
   "source": []
  }
 ],
 "metadata": {
  "kernelspec": {
   "display_name": "Python 3",
   "language": "python",
   "name": "python3"
  },
  "language_info": {
   "codemirror_mode": {
    "name": "ipython",
    "version": 3
   },
   "file_extension": ".py",
   "mimetype": "text/x-python",
   "name": "python",
   "nbconvert_exporter": "python",
   "pygments_lexer": "ipython3",
   "version": "3.9.5"
  },
  "toc": {
   "base_numbering": 1,
   "nav_menu": {},
   "number_sections": true,
   "sideBar": true,
   "skip_h1_title": false,
   "title_cell": "Table of Contents",
   "title_sidebar": "Contents",
   "toc_cell": false,
   "toc_position": {},
   "toc_section_display": true,
   "toc_window_display": false
  }
 },
 "nbformat": 4,
 "nbformat_minor": 5
}
